{
 "cells": [
  {
   "cell_type": "markdown",
   "id": "b98eb32c-fbe9-48cd-a11e-cf2cb245496f",
   "metadata": {},
   "source": [
    "# Barbie's Cleaning"
   ]
  },
  {
   "cell_type": "markdown",
   "id": "a3427797-68d6-4470-aa0f-b15154c2bb17",
   "metadata": {},
   "source": [
    "## Telco Customer Churn Prediction"
   ]
  },
  {
   "cell_type": "markdown",
   "id": "4794004b-7738-4cd9-a517-7584987bd5e1",
   "metadata": {},
   "source": [
    "### 1. Predict Customers Behaviour to prevent churn\n",
    "The goal of this project is to predict whether a customer will churn (i.e., leave the company) based on various features such as services subscribed to, customer demographics, account information, etc."
   ]
  },
  {
   "cell_type": "markdown",
   "id": "c27f7fed-8f9d-4597-a1d4-b86e5e6726ff",
   "metadata": {},
   "source": [
    "## 2. Exploratory Data Analysis (EDA)\n",
    "- Load data and Clean data\n",
    "- Explore feature distributions and correlations\n",
    "- Visualize relationships between features and churn"
   ]
  },
  {
   "cell_type": "code",
   "execution_count": 1,
   "id": "58ae462a-e64d-46c5-86a7-28570aa1e493",
   "metadata": {},
   "outputs": [],
   "source": [
    "import pandas as pd\n",
    "import numpy as np\n",
    "import matplotlib.pyplot as plt\n",
    "import seaborn as sns\n",
    "from sklearn.model_selection import train_test_split\n",
    "from sklearn.preprocessing import OneHotEncoder, StandardScaler\n",
    "from sklearn.compose import ColumnTransformer\n",
    "from sklearn.ensemble import RandomForestClassifier\n",
    "from sklearn.metrics import accuracy_score, precision_score, recall_score, f1_score, roc_auc_score\n",
    "import xgboost as xgb\n",
    "%matplotlib inline\n",
    "import warnings\n",
    "warnings.filterwarnings('ignore')"
   ]
  },
  {
   "cell_type": "markdown",
   "id": "f5010343-141e-465b-9e1a-42d68fda9ef3",
   "metadata": {},
   "source": [
    "## Load Data And Clean Data"
   ]
  },
  {
   "cell_type": "code",
   "execution_count": 2,
   "id": "292ea5cf-053e-4d9f-bc2a-dd0d79c1afa6",
   "metadata": {},
   "outputs": [
    {
     "data": {
      "text/html": [
       "<div>\n",
       "<style scoped>\n",
       "    .dataframe tbody tr th:only-of-type {\n",
       "        vertical-align: middle;\n",
       "    }\n",
       "\n",
       "    .dataframe tbody tr th {\n",
       "        vertical-align: top;\n",
       "    }\n",
       "\n",
       "    .dataframe thead th {\n",
       "        text-align: right;\n",
       "    }\n",
       "</style>\n",
       "<table border=\"1\" class=\"dataframe\">\n",
       "  <thead>\n",
       "    <tr style=\"text-align: right;\">\n",
       "      <th></th>\n",
       "      <th>customerID</th>\n",
       "      <th>gender</th>\n",
       "      <th>SeniorCitizen</th>\n",
       "      <th>Partner</th>\n",
       "      <th>Dependents</th>\n",
       "      <th>tenure</th>\n",
       "      <th>PhoneService</th>\n",
       "      <th>MultipleLines</th>\n",
       "      <th>InternetService</th>\n",
       "      <th>OnlineSecurity</th>\n",
       "      <th>...</th>\n",
       "      <th>DeviceProtection</th>\n",
       "      <th>TechSupport</th>\n",
       "      <th>StreamingTV</th>\n",
       "      <th>StreamingMovies</th>\n",
       "      <th>Contract</th>\n",
       "      <th>PaperlessBilling</th>\n",
       "      <th>PaymentMethod</th>\n",
       "      <th>MonthlyCharges</th>\n",
       "      <th>TotalCharges</th>\n",
       "      <th>Churn</th>\n",
       "    </tr>\n",
       "  </thead>\n",
       "  <tbody>\n",
       "    <tr>\n",
       "      <th>0</th>\n",
       "      <td>7590-VHVEG</td>\n",
       "      <td>Female</td>\n",
       "      <td>0</td>\n",
       "      <td>Yes</td>\n",
       "      <td>No</td>\n",
       "      <td>1</td>\n",
       "      <td>No</td>\n",
       "      <td>No phone service</td>\n",
       "      <td>DSL</td>\n",
       "      <td>No</td>\n",
       "      <td>...</td>\n",
       "      <td>No</td>\n",
       "      <td>No</td>\n",
       "      <td>No</td>\n",
       "      <td>No</td>\n",
       "      <td>Month-to-month</td>\n",
       "      <td>Yes</td>\n",
       "      <td>Electronic check</td>\n",
       "      <td>29.85</td>\n",
       "      <td>29.85</td>\n",
       "      <td>No</td>\n",
       "    </tr>\n",
       "    <tr>\n",
       "      <th>1</th>\n",
       "      <td>5575-GNVDE</td>\n",
       "      <td>Male</td>\n",
       "      <td>0</td>\n",
       "      <td>No</td>\n",
       "      <td>No</td>\n",
       "      <td>34</td>\n",
       "      <td>Yes</td>\n",
       "      <td>No</td>\n",
       "      <td>DSL</td>\n",
       "      <td>Yes</td>\n",
       "      <td>...</td>\n",
       "      <td>Yes</td>\n",
       "      <td>No</td>\n",
       "      <td>No</td>\n",
       "      <td>No</td>\n",
       "      <td>One year</td>\n",
       "      <td>No</td>\n",
       "      <td>Mailed check</td>\n",
       "      <td>56.95</td>\n",
       "      <td>1889.5</td>\n",
       "      <td>No</td>\n",
       "    </tr>\n",
       "    <tr>\n",
       "      <th>2</th>\n",
       "      <td>3668-QPYBK</td>\n",
       "      <td>Male</td>\n",
       "      <td>0</td>\n",
       "      <td>No</td>\n",
       "      <td>No</td>\n",
       "      <td>2</td>\n",
       "      <td>Yes</td>\n",
       "      <td>No</td>\n",
       "      <td>DSL</td>\n",
       "      <td>Yes</td>\n",
       "      <td>...</td>\n",
       "      <td>No</td>\n",
       "      <td>No</td>\n",
       "      <td>No</td>\n",
       "      <td>No</td>\n",
       "      <td>Month-to-month</td>\n",
       "      <td>Yes</td>\n",
       "      <td>Mailed check</td>\n",
       "      <td>53.85</td>\n",
       "      <td>108.15</td>\n",
       "      <td>Yes</td>\n",
       "    </tr>\n",
       "    <tr>\n",
       "      <th>3</th>\n",
       "      <td>7795-CFOCW</td>\n",
       "      <td>Male</td>\n",
       "      <td>0</td>\n",
       "      <td>No</td>\n",
       "      <td>No</td>\n",
       "      <td>45</td>\n",
       "      <td>No</td>\n",
       "      <td>No phone service</td>\n",
       "      <td>DSL</td>\n",
       "      <td>Yes</td>\n",
       "      <td>...</td>\n",
       "      <td>Yes</td>\n",
       "      <td>Yes</td>\n",
       "      <td>No</td>\n",
       "      <td>No</td>\n",
       "      <td>One year</td>\n",
       "      <td>No</td>\n",
       "      <td>Bank transfer (automatic)</td>\n",
       "      <td>42.30</td>\n",
       "      <td>1840.75</td>\n",
       "      <td>No</td>\n",
       "    </tr>\n",
       "    <tr>\n",
       "      <th>4</th>\n",
       "      <td>9237-HQITU</td>\n",
       "      <td>Female</td>\n",
       "      <td>0</td>\n",
       "      <td>No</td>\n",
       "      <td>No</td>\n",
       "      <td>2</td>\n",
       "      <td>Yes</td>\n",
       "      <td>No</td>\n",
       "      <td>Fiber optic</td>\n",
       "      <td>No</td>\n",
       "      <td>...</td>\n",
       "      <td>No</td>\n",
       "      <td>No</td>\n",
       "      <td>No</td>\n",
       "      <td>No</td>\n",
       "      <td>Month-to-month</td>\n",
       "      <td>Yes</td>\n",
       "      <td>Electronic check</td>\n",
       "      <td>70.70</td>\n",
       "      <td>151.65</td>\n",
       "      <td>Yes</td>\n",
       "    </tr>\n",
       "  </tbody>\n",
       "</table>\n",
       "<p>5 rows × 21 columns</p>\n",
       "</div>"
      ],
      "text/plain": [
       "   customerID  gender  SeniorCitizen Partner Dependents  tenure PhoneService  \\\n",
       "0  7590-VHVEG  Female              0     Yes         No       1           No   \n",
       "1  5575-GNVDE    Male              0      No         No      34          Yes   \n",
       "2  3668-QPYBK    Male              0      No         No       2          Yes   \n",
       "3  7795-CFOCW    Male              0      No         No      45           No   \n",
       "4  9237-HQITU  Female              0      No         No       2          Yes   \n",
       "\n",
       "      MultipleLines InternetService OnlineSecurity  ... DeviceProtection  \\\n",
       "0  No phone service             DSL             No  ...               No   \n",
       "1                No             DSL            Yes  ...              Yes   \n",
       "2                No             DSL            Yes  ...               No   \n",
       "3  No phone service             DSL            Yes  ...              Yes   \n",
       "4                No     Fiber optic             No  ...               No   \n",
       "\n",
       "  TechSupport StreamingTV StreamingMovies        Contract PaperlessBilling  \\\n",
       "0          No          No              No  Month-to-month              Yes   \n",
       "1          No          No              No        One year               No   \n",
       "2          No          No              No  Month-to-month              Yes   \n",
       "3         Yes          No              No        One year               No   \n",
       "4          No          No              No  Month-to-month              Yes   \n",
       "\n",
       "               PaymentMethod MonthlyCharges  TotalCharges Churn  \n",
       "0           Electronic check          29.85         29.85    No  \n",
       "1               Mailed check          56.95        1889.5    No  \n",
       "2               Mailed check          53.85        108.15   Yes  \n",
       "3  Bank transfer (automatic)          42.30       1840.75    No  \n",
       "4           Electronic check          70.70        151.65   Yes  \n",
       "\n",
       "[5 rows x 21 columns]"
      ]
     },
     "execution_count": 2,
     "metadata": {},
     "output_type": "execute_result"
    }
   ],
   "source": [
    "df = pd.read_csv('Telco_Customer_Churn.csv')\n",
    "df.head()"
   ]
  },
  {
   "cell_type": "code",
   "execution_count": 3,
   "id": "c7b037a4-11ce-46b9-98ce-b9774fcc9c4b",
   "metadata": {},
   "outputs": [
    {
     "data": {
      "text/plain": [
       "(7043, 21)"
      ]
     },
     "execution_count": 3,
     "metadata": {},
     "output_type": "execute_result"
    }
   ],
   "source": [
    "df.shape"
   ]
  },
  {
   "cell_type": "code",
   "execution_count": 4,
   "id": "e1126a15-93a9-4b4e-bf26-f14521f029ac",
   "metadata": {},
   "outputs": [
    {
     "name": "stdout",
     "output_type": "stream",
     "text": [
      "<class 'pandas.core.frame.DataFrame'>\n",
      "RangeIndex: 7043 entries, 0 to 7042\n",
      "Data columns (total 21 columns):\n",
      " #   Column            Non-Null Count  Dtype  \n",
      "---  ------            --------------  -----  \n",
      " 0   customerID        7043 non-null   object \n",
      " 1   gender            7043 non-null   object \n",
      " 2   SeniorCitizen     7043 non-null   int64  \n",
      " 3   Partner           7043 non-null   object \n",
      " 4   Dependents        7043 non-null   object \n",
      " 5   tenure            7043 non-null   int64  \n",
      " 6   PhoneService      7043 non-null   object \n",
      " 7   MultipleLines     7043 non-null   object \n",
      " 8   InternetService   7043 non-null   object \n",
      " 9   OnlineSecurity    7043 non-null   object \n",
      " 10  OnlineBackup      7043 non-null   object \n",
      " 11  DeviceProtection  7043 non-null   object \n",
      " 12  TechSupport       7043 non-null   object \n",
      " 13  StreamingTV       7043 non-null   object \n",
      " 14  StreamingMovies   7043 non-null   object \n",
      " 15  Contract          7043 non-null   object \n",
      " 16  PaperlessBilling  7043 non-null   object \n",
      " 17  PaymentMethod     7043 non-null   object \n",
      " 18  MonthlyCharges    7043 non-null   float64\n",
      " 19  TotalCharges      7043 non-null   object \n",
      " 20  Churn             7043 non-null   object \n",
      "dtypes: float64(1), int64(2), object(18)\n",
      "memory usage: 1.1+ MB\n"
     ]
    }
   ],
   "source": [
    "df.info()"
   ]
  },
  {
   "cell_type": "code",
   "execution_count": 5,
   "id": "aea6f47d-05a6-4ccb-83d1-ba6bd55735a2",
   "metadata": {},
   "outputs": [
    {
     "data": {
      "text/plain": [
       "customerID          0\n",
       "gender              0\n",
       "SeniorCitizen       0\n",
       "Partner             0\n",
       "Dependents          0\n",
       "tenure              0\n",
       "PhoneService        0\n",
       "MultipleLines       0\n",
       "InternetService     0\n",
       "OnlineSecurity      0\n",
       "OnlineBackup        0\n",
       "DeviceProtection    0\n",
       "TechSupport         0\n",
       "StreamingTV         0\n",
       "StreamingMovies     0\n",
       "Contract            0\n",
       "PaperlessBilling    0\n",
       "PaymentMethod       0\n",
       "MonthlyCharges      0\n",
       "TotalCharges        0\n",
       "Churn               0\n",
       "dtype: int64"
      ]
     },
     "execution_count": 5,
     "metadata": {},
     "output_type": "execute_result"
    }
   ],
   "source": [
    "df.isnull().sum()"
   ]
  },
  {
   "cell_type": "code",
   "execution_count": 6,
   "id": "217b9c81-cb8e-4299-bf2f-95b2dbe81dc6",
   "metadata": {},
   "outputs": [
    {
     "data": {
      "text/plain": [
       "customerID           object\n",
       "gender               object\n",
       "SeniorCitizen         int64\n",
       "Partner              object\n",
       "Dependents           object\n",
       "tenure                int64\n",
       "PhoneService         object\n",
       "MultipleLines        object\n",
       "InternetService      object\n",
       "OnlineSecurity       object\n",
       "OnlineBackup         object\n",
       "DeviceProtection     object\n",
       "TechSupport          object\n",
       "StreamingTV          object\n",
       "StreamingMovies      object\n",
       "Contract             object\n",
       "PaperlessBilling     object\n",
       "PaymentMethod        object\n",
       "MonthlyCharges      float64\n",
       "TotalCharges         object\n",
       "Churn                object\n",
       "dtype: object"
      ]
     },
     "execution_count": 6,
     "metadata": {},
     "output_type": "execute_result"
    }
   ],
   "source": [
    "df.dtypes"
   ]
  },
  {
   "cell_type": "code",
   "execution_count": 7,
   "id": "00f01973-0ad9-43e7-af49-a3e6eb462f9f",
   "metadata": {},
   "outputs": [
    {
     "name": "stdout",
     "output_type": "stream",
     "text": [
      "Updated column names: ['customerid', 'gender', 'seniorcitizen', 'partner', 'dependents', 'tenure', 'phoneservice', 'multiplelines', 'internetservice', 'onlinesecurity', 'onlinebackup', 'deviceprotection', 'techsupport', 'streamingtv', 'streamingmovies', 'contract', 'paperlessbilling', 'paymentmethod', 'monthlycharges', 'totalcharges', 'churn']\n"
     ]
    }
   ],
   "source": [
    "# Clean column names\n",
    "\n",
    "df.columns = df.columns.str.strip().str.lower().str.replace(' ', '_').str.replace('[^a-z0-9_]', '', regex=True)\n",
    "\n",
    "# Confirm changes\n",
    "\n",
    "print(\"Updated column names:\", df.columns.tolist())"
   ]
  },
  {
   "cell_type": "code",
   "execution_count": 8,
   "id": "6882036c-712a-4e0f-8030-48f92bc0876e",
   "metadata": {},
   "outputs": [
    {
     "data": {
      "text/plain": [
       "dtype('float64')"
      ]
     },
     "execution_count": 8,
     "metadata": {},
     "output_type": "execute_result"
    }
   ],
   "source": [
    "# Convert totalcharges from string to numeric\n",
    "\n",
    "df['totalcharges'] = pd.to_numeric(df['totalcharges'], errors='coerce')\n",
    "df['totalcharges'].dtype"
   ]
  },
  {
   "cell_type": "code",
   "execution_count": 9,
   "id": "e897c52c-bb41-4b67-b0dc-dc053622da10",
   "metadata": {},
   "outputs": [
    {
     "data": {
      "text/plain": [
       "11"
      ]
     },
     "execution_count": 9,
     "metadata": {},
     "output_type": "execute_result"
    }
   ],
   "source": [
    "df['totalcharges'].isnull().sum()"
   ]
  },
  {
   "cell_type": "code",
   "execution_count": 10,
   "id": "20081ac8-576f-4740-aa8f-88fe9095d8b5",
   "metadata": {},
   "outputs": [
    {
     "name": "stdout",
     "output_type": "stream",
     "text": [
      "Missing values before filling: 11\n"
     ]
    }
   ],
   "source": [
    "# Check Missing values\n",
    "\n",
    "print(\"Missing values before filling:\", df['totalcharges'].isnull().sum())"
   ]
  },
  {
   "cell_type": "code",
   "execution_count": 11,
   "id": "be8dcaec-6a45-4f89-92a0-0e33c30a9a44",
   "metadata": {},
   "outputs": [
    {
     "name": "stdout",
     "output_type": "stream",
     "text": [
      "Missing totalcharges after filling: 0\n"
     ]
    }
   ],
   "source": [
    "# Fill missing totalcharges with median\n",
    "\n",
    "df['totalcharges'].fillna(df['totalcharges'].median(), inplace=True)\n",
    "print('Missing totalcharges after filling:', df['totalcharges'].isnull().sum())"
   ]
  },
  {
   "cell_type": "code",
   "execution_count": 12,
   "id": "7419f839-ebe9-453c-8326-4bb5cc231db6",
   "metadata": {},
   "outputs": [
    {
     "data": {
      "text/plain": [
       "dtype('int64')"
      ]
     },
     "execution_count": 12,
     "metadata": {},
     "output_type": "execute_result"
    }
   ],
   "source": [
    "# Convert churn from object to numeric\n",
    "\n",
    "df['churn'] = df['churn'].map({'No': 0, 'Yes': 1})\n",
    "df['churn'].dtype"
   ]
  },
  {
   "cell_type": "code",
   "execution_count": 13,
   "id": "ae020ad6-633e-427c-977d-1d6ccddd04cd",
   "metadata": {},
   "outputs": [
    {
     "data": {
      "text/html": [
       "<div>\n",
       "<style scoped>\n",
       "    .dataframe tbody tr th:only-of-type {\n",
       "        vertical-align: middle;\n",
       "    }\n",
       "\n",
       "    .dataframe tbody tr th {\n",
       "        vertical-align: top;\n",
       "    }\n",
       "\n",
       "    .dataframe thead th {\n",
       "        text-align: right;\n",
       "    }\n",
       "</style>\n",
       "<table border=\"1\" class=\"dataframe\">\n",
       "  <thead>\n",
       "    <tr style=\"text-align: right;\">\n",
       "      <th></th>\n",
       "      <th>gender</th>\n",
       "      <th>seniorcitizen</th>\n",
       "      <th>partner</th>\n",
       "      <th>dependents</th>\n",
       "      <th>tenure</th>\n",
       "      <th>phoneservice</th>\n",
       "      <th>multiplelines</th>\n",
       "      <th>internetservice</th>\n",
       "      <th>onlinesecurity</th>\n",
       "      <th>onlinebackup</th>\n",
       "      <th>deviceprotection</th>\n",
       "      <th>techsupport</th>\n",
       "      <th>streamingtv</th>\n",
       "      <th>streamingmovies</th>\n",
       "      <th>contract</th>\n",
       "      <th>paperlessbilling</th>\n",
       "      <th>paymentmethod</th>\n",
       "      <th>monthlycharges</th>\n",
       "      <th>totalcharges</th>\n",
       "      <th>churn</th>\n",
       "    </tr>\n",
       "  </thead>\n",
       "  <tbody>\n",
       "    <tr>\n",
       "      <th>0</th>\n",
       "      <td>Female</td>\n",
       "      <td>0</td>\n",
       "      <td>Yes</td>\n",
       "      <td>No</td>\n",
       "      <td>1</td>\n",
       "      <td>No</td>\n",
       "      <td>No phone service</td>\n",
       "      <td>DSL</td>\n",
       "      <td>No</td>\n",
       "      <td>Yes</td>\n",
       "      <td>No</td>\n",
       "      <td>No</td>\n",
       "      <td>No</td>\n",
       "      <td>No</td>\n",
       "      <td>Month-to-month</td>\n",
       "      <td>Yes</td>\n",
       "      <td>Electronic check</td>\n",
       "      <td>29.85</td>\n",
       "      <td>29.85</td>\n",
       "      <td>0</td>\n",
       "    </tr>\n",
       "    <tr>\n",
       "      <th>1</th>\n",
       "      <td>Male</td>\n",
       "      <td>0</td>\n",
       "      <td>No</td>\n",
       "      <td>No</td>\n",
       "      <td>34</td>\n",
       "      <td>Yes</td>\n",
       "      <td>No</td>\n",
       "      <td>DSL</td>\n",
       "      <td>Yes</td>\n",
       "      <td>No</td>\n",
       "      <td>Yes</td>\n",
       "      <td>No</td>\n",
       "      <td>No</td>\n",
       "      <td>No</td>\n",
       "      <td>One year</td>\n",
       "      <td>No</td>\n",
       "      <td>Mailed check</td>\n",
       "      <td>56.95</td>\n",
       "      <td>1889.50</td>\n",
       "      <td>0</td>\n",
       "    </tr>\n",
       "    <tr>\n",
       "      <th>2</th>\n",
       "      <td>Male</td>\n",
       "      <td>0</td>\n",
       "      <td>No</td>\n",
       "      <td>No</td>\n",
       "      <td>2</td>\n",
       "      <td>Yes</td>\n",
       "      <td>No</td>\n",
       "      <td>DSL</td>\n",
       "      <td>Yes</td>\n",
       "      <td>Yes</td>\n",
       "      <td>No</td>\n",
       "      <td>No</td>\n",
       "      <td>No</td>\n",
       "      <td>No</td>\n",
       "      <td>Month-to-month</td>\n",
       "      <td>Yes</td>\n",
       "      <td>Mailed check</td>\n",
       "      <td>53.85</td>\n",
       "      <td>108.15</td>\n",
       "      <td>1</td>\n",
       "    </tr>\n",
       "    <tr>\n",
       "      <th>3</th>\n",
       "      <td>Male</td>\n",
       "      <td>0</td>\n",
       "      <td>No</td>\n",
       "      <td>No</td>\n",
       "      <td>45</td>\n",
       "      <td>No</td>\n",
       "      <td>No phone service</td>\n",
       "      <td>DSL</td>\n",
       "      <td>Yes</td>\n",
       "      <td>No</td>\n",
       "      <td>Yes</td>\n",
       "      <td>Yes</td>\n",
       "      <td>No</td>\n",
       "      <td>No</td>\n",
       "      <td>One year</td>\n",
       "      <td>No</td>\n",
       "      <td>Bank transfer (automatic)</td>\n",
       "      <td>42.30</td>\n",
       "      <td>1840.75</td>\n",
       "      <td>0</td>\n",
       "    </tr>\n",
       "    <tr>\n",
       "      <th>4</th>\n",
       "      <td>Female</td>\n",
       "      <td>0</td>\n",
       "      <td>No</td>\n",
       "      <td>No</td>\n",
       "      <td>2</td>\n",
       "      <td>Yes</td>\n",
       "      <td>No</td>\n",
       "      <td>Fiber optic</td>\n",
       "      <td>No</td>\n",
       "      <td>No</td>\n",
       "      <td>No</td>\n",
       "      <td>No</td>\n",
       "      <td>No</td>\n",
       "      <td>No</td>\n",
       "      <td>Month-to-month</td>\n",
       "      <td>Yes</td>\n",
       "      <td>Electronic check</td>\n",
       "      <td>70.70</td>\n",
       "      <td>151.65</td>\n",
       "      <td>1</td>\n",
       "    </tr>\n",
       "  </tbody>\n",
       "</table>\n",
       "</div>"
      ],
      "text/plain": [
       "   gender  seniorcitizen partner dependents  tenure phoneservice  \\\n",
       "0  Female              0     Yes         No       1           No   \n",
       "1    Male              0      No         No      34          Yes   \n",
       "2    Male              0      No         No       2          Yes   \n",
       "3    Male              0      No         No      45           No   \n",
       "4  Female              0      No         No       2          Yes   \n",
       "\n",
       "      multiplelines internetservice onlinesecurity onlinebackup  \\\n",
       "0  No phone service             DSL             No          Yes   \n",
       "1                No             DSL            Yes           No   \n",
       "2                No             DSL            Yes          Yes   \n",
       "3  No phone service             DSL            Yes           No   \n",
       "4                No     Fiber optic             No           No   \n",
       "\n",
       "  deviceprotection techsupport streamingtv streamingmovies        contract  \\\n",
       "0               No          No          No              No  Month-to-month   \n",
       "1              Yes          No          No              No        One year   \n",
       "2               No          No          No              No  Month-to-month   \n",
       "3              Yes         Yes          No              No        One year   \n",
       "4               No          No          No              No  Month-to-month   \n",
       "\n",
       "  paperlessbilling              paymentmethod  monthlycharges  totalcharges  \\\n",
       "0              Yes           Electronic check           29.85         29.85   \n",
       "1               No               Mailed check           56.95       1889.50   \n",
       "2              Yes               Mailed check           53.85        108.15   \n",
       "3               No  Bank transfer (automatic)           42.30       1840.75   \n",
       "4              Yes           Electronic check           70.70        151.65   \n",
       "\n",
       "   churn  \n",
       "0      0  \n",
       "1      0  \n",
       "2      1  \n",
       "3      0  \n",
       "4      1  "
      ]
     },
     "execution_count": 13,
     "metadata": {},
     "output_type": "execute_result"
    }
   ],
   "source": [
    "# Drop customerid (not useful for prediction)\n",
    "\n",
    "df.drop('customerid', axis=1, inplace=True)\n",
    "df.head()"
   ]
  },
  {
   "cell_type": "code",
   "execution_count": 14,
   "id": "3619367d-e2bd-4f39-b823-35955bcd1baa",
   "metadata": {},
   "outputs": [
    {
     "name": "stdout",
     "output_type": "stream",
     "text": [
      "<class 'pandas.core.frame.DataFrame'>\n",
      "RangeIndex: 7043 entries, 0 to 7042\n",
      "Data columns (total 20 columns):\n",
      " #   Column            Non-Null Count  Dtype  \n",
      "---  ------            --------------  -----  \n",
      " 0   gender            7043 non-null   object \n",
      " 1   seniorcitizen     7043 non-null   object \n",
      " 2   partner           7043 non-null   object \n",
      " 3   dependents        7043 non-null   object \n",
      " 4   tenure            7043 non-null   int64  \n",
      " 5   phoneservice      7043 non-null   object \n",
      " 6   multiplelines     7043 non-null   object \n",
      " 7   internetservice   7043 non-null   object \n",
      " 8   onlinesecurity    7043 non-null   object \n",
      " 9   onlinebackup      7043 non-null   object \n",
      " 10  deviceprotection  7043 non-null   object \n",
      " 11  techsupport       7043 non-null   object \n",
      " 12  streamingtv       7043 non-null   object \n",
      " 13  streamingmovies   7043 non-null   object \n",
      " 14  contract          7043 non-null   object \n",
      " 15  paperlessbilling  7043 non-null   object \n",
      " 16  paymentmethod     7043 non-null   object \n",
      " 17  monthlycharges    7043 non-null   float64\n",
      " 18  totalcharges      7043 non-null   float64\n",
      " 19  churn             7043 non-null   int64  \n",
      "dtypes: float64(2), int64(2), object(16)\n",
      "memory usage: 1.1+ MB\n"
     ]
    }
   ],
   "source": [
    "# Convert seniorcitizen from int to string\n",
    "\n",
    "df['seniorcitizen'] = df['seniorcitizen'].replace({1: 'Yes', 0: 'No'})\n",
    "df.info()"
   ]
  },
  {
   "cell_type": "code",
   "execution_count": 15,
   "id": "fea391e1-4d9b-4195-a08f-156286532a80",
   "metadata": {},
   "outputs": [
    {
     "data": {
      "text/plain": [
       "11"
      ]
     },
     "execution_count": 15,
     "metadata": {},
     "output_type": "execute_result"
    }
   ],
   "source": [
    "# Count the number of rows where the 'tenure' column has a value of 0\n",
    "\n",
    "df['tenure'].isin([0]).sum()"
   ]
  },
  {
   "cell_type": "code",
   "execution_count": 16,
   "id": "5ddf0c8d-7849-40fe-ac07-02aff0d519ce",
   "metadata": {},
   "outputs": [
    {
     "name": "stdout",
     "output_type": "stream",
     "text": [
      "Rows with tenure = 0: 0\n"
     ]
    }
   ],
   "source": [
    "# Remove rows where tenure == 0\n",
    "\n",
    "df = df[df['tenure'] > 0]\n",
    "print(\"Rows with tenure = 0:\", df['tenure'].isin([0]).sum())"
   ]
  },
  {
   "cell_type": "code",
   "execution_count": 17,
   "id": "3f2369cb-7743-4ade-ae4a-8369e306d4ec",
   "metadata": {},
   "outputs": [
    {
     "name": "stdout",
     "output_type": "stream",
     "text": [
      "Number of duplicates before: 22\n",
      "Number of duplicates after: 0\n"
     ]
    }
   ],
   "source": [
    "# View duplicates (optional)\n",
    "print(\"Number of duplicates before:\", df.duplicated().sum())\n",
    "\n",
    "# Drop duplicates\n",
    "df = df.drop_duplicates()\n",
    "\n",
    "# Confirm removal\n",
    "print(\"Number of duplicates after:\", df.duplicated().sum())"
   ]
  },
  {
   "cell_type": "code",
   "execution_count": 18,
   "id": "a595c622-6730-47c4-9634-d73a44d97923",
   "metadata": {},
   "outputs": [
    {
     "name": "stdout",
     "output_type": "stream",
     "text": [
      "gender - # unique values: 2\n",
      "seniorcitizen - # unique values: 2\n",
      "partner - # unique values: 2\n",
      "dependents - # unique values: 2\n",
      "phoneservice - # unique values: 2\n",
      "multiplelines - # unique values: 3\n",
      "internetservice - # unique values: 3\n",
      "onlinesecurity - # unique values: 3\n",
      "onlinebackup - # unique values: 3\n",
      "deviceprotection - # unique values: 3\n",
      "techsupport - # unique values: 3\n",
      "streamingtv - # unique values: 3\n",
      "streamingmovies - # unique values: 3\n",
      "contract - # unique values: 3\n",
      "paperlessbilling - # unique values: 2\n",
      "paymentmethod - # unique values: 4\n"
     ]
    }
   ],
   "source": [
    "# Dictionary of column names and unique value counts\n",
    "unique_counts = {col: df[col].nunique() for col in df.select_dtypes('object').columns}\n",
    "\n",
    "# Display results\n",
    "for col, count in unique_counts.items():\n",
    "    print(f\"{col} - # unique values: {count}\")"
   ]
  },
  {
   "cell_type": "code",
   "execution_count": 19,
   "id": "1537010b-bfa9-465f-bbce-3ed2fa1deef9",
   "metadata": {},
   "outputs": [
    {
     "name": "stdout",
     "output_type": "stream",
     "text": [
      "gender:\n",
      "gender\n",
      "Male      3535\n",
      "Female    3475\n",
      "Name: count, dtype: int64\n",
      "----------------------------------------\n",
      "seniorcitizen:\n",
      "seniorcitizen\n",
      "No     5869\n",
      "Yes    1141\n",
      "Name: count, dtype: int64\n",
      "----------------------------------------\n",
      "partner:\n",
      "partner\n",
      "No     3617\n",
      "Yes    3393\n",
      "Name: count, dtype: int64\n",
      "----------------------------------------\n",
      "dependents:\n",
      "dependents\n",
      "No     4911\n",
      "Yes    2099\n",
      "Name: count, dtype: int64\n",
      "----------------------------------------\n",
      "phoneservice:\n",
      "phoneservice\n",
      "Yes    6330\n",
      "No      680\n",
      "Name: count, dtype: int64\n",
      "----------------------------------------\n",
      "multiplelines:\n",
      "multiplelines\n",
      "No                  3363\n",
      "Yes                 2967\n",
      "No phone service     680\n",
      "Name: count, dtype: int64\n",
      "----------------------------------------\n",
      "internetservice:\n",
      "internetservice\n",
      "Fiber optic    3090\n",
      "DSL            2414\n",
      "No             1506\n",
      "Name: count, dtype: int64\n",
      "----------------------------------------\n",
      "onlinesecurity:\n",
      "onlinesecurity\n",
      "No                     3489\n",
      "Yes                    2015\n",
      "No internet service    1506\n",
      "Name: count, dtype: int64\n",
      "----------------------------------------\n",
      "onlinebackup:\n",
      "onlinebackup\n",
      "No                     3079\n",
      "Yes                    2425\n",
      "No internet service    1506\n",
      "Name: count, dtype: int64\n",
      "----------------------------------------\n",
      "deviceprotection:\n",
      "deviceprotection\n",
      "No                     3086\n",
      "Yes                    2418\n",
      "No internet service    1506\n",
      "Name: count, dtype: int64\n",
      "----------------------------------------\n",
      "techsupport:\n",
      "techsupport\n",
      "No                     3464\n",
      "Yes                    2040\n",
      "No internet service    1506\n",
      "Name: count, dtype: int64\n",
      "----------------------------------------\n",
      "streamingtv:\n",
      "streamingtv\n",
      "No                     2801\n",
      "Yes                    2703\n",
      "No internet service    1506\n",
      "Name: count, dtype: int64\n",
      "----------------------------------------\n",
      "streamingmovies:\n",
      "streamingmovies\n",
      "No                     2773\n",
      "Yes                    2731\n",
      "No internet service    1506\n",
      "Name: count, dtype: int64\n",
      "----------------------------------------\n",
      "contract:\n",
      "contract\n",
      "Month-to-month    3853\n",
      "Two year          1685\n",
      "One year          1472\n",
      "Name: count, dtype: int64\n",
      "----------------------------------------\n",
      "paperlessbilling:\n",
      "paperlessbilling\n",
      "Yes    4158\n",
      "No     2852\n",
      "Name: count, dtype: int64\n",
      "----------------------------------------\n",
      "paymentmethod:\n",
      "paymentmethod\n",
      "Electronic check             2359\n",
      "Mailed check                 1588\n",
      "Bank transfer (automatic)    1542\n",
      "Credit card (automatic)      1521\n",
      "Name: count, dtype: int64\n",
      "----------------------------------------\n"
     ]
    }
   ],
   "source": [
    "# Store results in a dictionary\n",
    "value_counts_dict = {col: df[col].value_counts() for col in df.select_dtypes('object').columns}\n",
    "\n",
    "# Display each\n",
    "for col, counts in value_counts_dict.items():\n",
    "    print(f\"{col}:\\n{counts}\\n{'-'*40}\")"
   ]
  },
  {
   "cell_type": "code",
   "execution_count": 20,
   "id": "478be383-10d1-40bd-a686-03a562674b3d",
   "metadata": {},
   "outputs": [
    {
     "name": "stdout",
     "output_type": "stream",
     "text": [
      "\n",
      "Unique values in categorical columns:\n",
      "gender: ['Female' 'Male']\n",
      "seniorcitizen: ['No' 'Yes']\n",
      "partner: ['Yes' 'No']\n",
      "dependents: ['No' 'Yes']\n",
      "phoneservice: ['No' 'Yes']\n",
      "multiplelines: ['No phone service' 'No' 'Yes']\n",
      "internetservice: ['DSL' 'Fiber optic' 'No']\n",
      "onlinesecurity: ['No' 'Yes' 'No internet service']\n",
      "onlinebackup: ['Yes' 'No' 'No internet service']\n",
      "deviceprotection: ['No' 'Yes' 'No internet service']\n",
      "techsupport: ['No' 'Yes' 'No internet service']\n",
      "streamingtv: ['No' 'Yes' 'No internet service']\n",
      "streamingmovies: ['No' 'Yes' 'No internet service']\n",
      "contract: ['Month-to-month' 'One year' 'Two year']\n",
      "paperlessbilling: ['Yes' 'No']\n",
      "paymentmethod: ['Electronic check' 'Mailed check' 'Bank transfer (automatic)'\n",
      " 'Credit card (automatic)']\n"
     ]
    }
   ],
   "source": [
    "# Verify categorical consistency\n",
    "\n",
    "categorical_cols = df.select_dtypes(include='object').columns.tolist()\n",
    "print(\"\\nUnique values in categorical columns:\")\n",
    "\n",
    "for col in categorical_cols:\n",
    "    print(f\"{col}: {df[col].unique()}\")"
   ]
  },
  {
   "cell_type": "code",
   "execution_count": 21,
   "id": "59ecf34a-ee8c-4610-85c8-7d8e16904f2e",
   "metadata": {},
   "outputs": [
    {
     "name": "stdout",
     "output_type": "stream",
     "text": [
      "\n",
      "Updated unique values after recoding:\n",
      "multiplelines: ['No' 'Yes']\n",
      "onlinesecurity: ['No' 'Yes']\n",
      "onlinebackup: ['Yes' 'No']\n",
      "deviceprotection: ['No' 'Yes']\n",
      "techsupport: ['No' 'Yes']\n",
      "streamingtv: ['No' 'Yes']\n",
      "streamingmovies: ['No' 'Yes']\n"
     ]
    }
   ],
   "source": [
    "# Recode 'No internet service' and 'No phone service' to 'No' for consistency\n",
    "service_cols = ['multiplelines', 'onlinesecurity', 'onlinebackup', \n",
    "                'deviceprotection', 'techsupport', 'streamingtv', 'streamingmovies']\n",
    "\n",
    "for col in service_cols:\n",
    "    df[col] = df[col].replace('No internet service', 'No')\n",
    "    if col == 'multiplelines':\n",
    "        df[col] = df[col].replace('No phone service', 'No')\n",
    "\n",
    "print(\"\\nUpdated unique values after recoding:\")\n",
    "\n",
    "for col in service_cols:\n",
    "     print(f\"{col}: {df[col].unique()}\")"
   ]
  },
  {
   "cell_type": "code",
   "execution_count": 22,
   "id": "f5806a49-604b-46f4-9f83-b0f4070e30c0",
   "metadata": {},
   "outputs": [
    {
     "data": {
      "text/html": [
       "<div>\n",
       "<style scoped>\n",
       "    .dataframe tbody tr th:only-of-type {\n",
       "        vertical-align: middle;\n",
       "    }\n",
       "\n",
       "    .dataframe tbody tr th {\n",
       "        vertical-align: top;\n",
       "    }\n",
       "\n",
       "    .dataframe thead th {\n",
       "        text-align: right;\n",
       "    }\n",
       "</style>\n",
       "<table border=\"1\" class=\"dataframe\">\n",
       "  <thead>\n",
       "    <tr style=\"text-align: right;\">\n",
       "      <th></th>\n",
       "      <th>count</th>\n",
       "      <th>mean</th>\n",
       "      <th>std</th>\n",
       "      <th>min</th>\n",
       "      <th>25%</th>\n",
       "      <th>50%</th>\n",
       "      <th>75%</th>\n",
       "      <th>max</th>\n",
       "    </tr>\n",
       "  </thead>\n",
       "  <tbody>\n",
       "    <tr>\n",
       "      <th>tenure</th>\n",
       "      <td>7010.0</td>\n",
       "      <td>32.520399</td>\n",
       "      <td>24.520441</td>\n",
       "      <td>1.00</td>\n",
       "      <td>9.0000</td>\n",
       "      <td>29.000</td>\n",
       "      <td>56.0000</td>\n",
       "      <td>72.00</td>\n",
       "    </tr>\n",
       "    <tr>\n",
       "      <th>monthlycharges</th>\n",
       "      <td>7010.0</td>\n",
       "      <td>64.888666</td>\n",
       "      <td>30.064769</td>\n",
       "      <td>18.25</td>\n",
       "      <td>35.7500</td>\n",
       "      <td>70.400</td>\n",
       "      <td>89.9000</td>\n",
       "      <td>118.75</td>\n",
       "    </tr>\n",
       "    <tr>\n",
       "      <th>totalcharges</th>\n",
       "      <td>7010.0</td>\n",
       "      <td>2290.353388</td>\n",
       "      <td>2266.820832</td>\n",
       "      <td>18.80</td>\n",
       "      <td>408.3125</td>\n",
       "      <td>1403.875</td>\n",
       "      <td>3807.8375</td>\n",
       "      <td>8684.80</td>\n",
       "    </tr>\n",
       "    <tr>\n",
       "      <th>churn</th>\n",
       "      <td>7010.0</td>\n",
       "      <td>0.264907</td>\n",
       "      <td>0.441315</td>\n",
       "      <td>0.00</td>\n",
       "      <td>0.0000</td>\n",
       "      <td>0.000</td>\n",
       "      <td>1.0000</td>\n",
       "      <td>1.00</td>\n",
       "    </tr>\n",
       "  </tbody>\n",
       "</table>\n",
       "</div>"
      ],
      "text/plain": [
       "                 count         mean          std    min       25%       50%  \\\n",
       "tenure          7010.0    32.520399    24.520441   1.00    9.0000    29.000   \n",
       "monthlycharges  7010.0    64.888666    30.064769  18.25   35.7500    70.400   \n",
       "totalcharges    7010.0  2290.353388  2266.820832  18.80  408.3125  1403.875   \n",
       "churn           7010.0     0.264907     0.441315   0.00    0.0000     0.000   \n",
       "\n",
       "                      75%      max  \n",
       "tenure            56.0000    72.00  \n",
       "monthlycharges    89.9000   118.75  \n",
       "totalcharges    3807.8375  8684.80  \n",
       "churn              1.0000     1.00  "
      ]
     },
     "execution_count": 22,
     "metadata": {},
     "output_type": "execute_result"
    }
   ],
   "source": [
    "df.describe().transpose()"
   ]
  },
  {
   "cell_type": "code",
   "execution_count": 23,
   "id": "7e61b9b1-d182-43bd-a494-e43ff95640f7",
   "metadata": {},
   "outputs": [
    {
     "data": {
      "text/html": [
       "<div>\n",
       "<style scoped>\n",
       "    .dataframe tbody tr th:only-of-type {\n",
       "        vertical-align: middle;\n",
       "    }\n",
       "\n",
       "    .dataframe tbody tr th {\n",
       "        vertical-align: top;\n",
       "    }\n",
       "\n",
       "    .dataframe thead th {\n",
       "        text-align: right;\n",
       "    }\n",
       "</style>\n",
       "<table border=\"1\" class=\"dataframe\">\n",
       "  <thead>\n",
       "    <tr style=\"text-align: right;\">\n",
       "      <th></th>\n",
       "      <th>gender</th>\n",
       "      <th>seniorcitizen</th>\n",
       "      <th>partner</th>\n",
       "      <th>dependents</th>\n",
       "      <th>tenure</th>\n",
       "      <th>phoneservice</th>\n",
       "      <th>multiplelines</th>\n",
       "      <th>internetservice</th>\n",
       "      <th>onlinesecurity</th>\n",
       "      <th>onlinebackup</th>\n",
       "      <th>deviceprotection</th>\n",
       "      <th>techsupport</th>\n",
       "      <th>streamingtv</th>\n",
       "      <th>streamingmovies</th>\n",
       "      <th>contract</th>\n",
       "      <th>paperlessbilling</th>\n",
       "      <th>paymentmethod</th>\n",
       "      <th>monthlycharges</th>\n",
       "      <th>totalcharges</th>\n",
       "      <th>churn</th>\n",
       "    </tr>\n",
       "  </thead>\n",
       "  <tbody>\n",
       "    <tr>\n",
       "      <th>0</th>\n",
       "      <td>Female</td>\n",
       "      <td>No</td>\n",
       "      <td>Yes</td>\n",
       "      <td>No</td>\n",
       "      <td>1</td>\n",
       "      <td>No</td>\n",
       "      <td>No</td>\n",
       "      <td>DSL</td>\n",
       "      <td>No</td>\n",
       "      <td>Yes</td>\n",
       "      <td>No</td>\n",
       "      <td>No</td>\n",
       "      <td>No</td>\n",
       "      <td>No</td>\n",
       "      <td>Month-to-month</td>\n",
       "      <td>Yes</td>\n",
       "      <td>Electronic check</td>\n",
       "      <td>29.85</td>\n",
       "      <td>29.85</td>\n",
       "      <td>0</td>\n",
       "    </tr>\n",
       "    <tr>\n",
       "      <th>1</th>\n",
       "      <td>Male</td>\n",
       "      <td>No</td>\n",
       "      <td>No</td>\n",
       "      <td>No</td>\n",
       "      <td>34</td>\n",
       "      <td>Yes</td>\n",
       "      <td>No</td>\n",
       "      <td>DSL</td>\n",
       "      <td>Yes</td>\n",
       "      <td>No</td>\n",
       "      <td>Yes</td>\n",
       "      <td>No</td>\n",
       "      <td>No</td>\n",
       "      <td>No</td>\n",
       "      <td>One year</td>\n",
       "      <td>No</td>\n",
       "      <td>Mailed check</td>\n",
       "      <td>56.95</td>\n",
       "      <td>1889.50</td>\n",
       "      <td>0</td>\n",
       "    </tr>\n",
       "    <tr>\n",
       "      <th>2</th>\n",
       "      <td>Male</td>\n",
       "      <td>No</td>\n",
       "      <td>No</td>\n",
       "      <td>No</td>\n",
       "      <td>2</td>\n",
       "      <td>Yes</td>\n",
       "      <td>No</td>\n",
       "      <td>DSL</td>\n",
       "      <td>Yes</td>\n",
       "      <td>Yes</td>\n",
       "      <td>No</td>\n",
       "      <td>No</td>\n",
       "      <td>No</td>\n",
       "      <td>No</td>\n",
       "      <td>Month-to-month</td>\n",
       "      <td>Yes</td>\n",
       "      <td>Mailed check</td>\n",
       "      <td>53.85</td>\n",
       "      <td>108.15</td>\n",
       "      <td>1</td>\n",
       "    </tr>\n",
       "    <tr>\n",
       "      <th>3</th>\n",
       "      <td>Male</td>\n",
       "      <td>No</td>\n",
       "      <td>No</td>\n",
       "      <td>No</td>\n",
       "      <td>45</td>\n",
       "      <td>No</td>\n",
       "      <td>No</td>\n",
       "      <td>DSL</td>\n",
       "      <td>Yes</td>\n",
       "      <td>No</td>\n",
       "      <td>Yes</td>\n",
       "      <td>Yes</td>\n",
       "      <td>No</td>\n",
       "      <td>No</td>\n",
       "      <td>One year</td>\n",
       "      <td>No</td>\n",
       "      <td>Bank transfer (automatic)</td>\n",
       "      <td>42.30</td>\n",
       "      <td>1840.75</td>\n",
       "      <td>0</td>\n",
       "    </tr>\n",
       "    <tr>\n",
       "      <th>4</th>\n",
       "      <td>Female</td>\n",
       "      <td>No</td>\n",
       "      <td>No</td>\n",
       "      <td>No</td>\n",
       "      <td>2</td>\n",
       "      <td>Yes</td>\n",
       "      <td>No</td>\n",
       "      <td>Fiber optic</td>\n",
       "      <td>No</td>\n",
       "      <td>No</td>\n",
       "      <td>No</td>\n",
       "      <td>No</td>\n",
       "      <td>No</td>\n",
       "      <td>No</td>\n",
       "      <td>Month-to-month</td>\n",
       "      <td>Yes</td>\n",
       "      <td>Electronic check</td>\n",
       "      <td>70.70</td>\n",
       "      <td>151.65</td>\n",
       "      <td>1</td>\n",
       "    </tr>\n",
       "  </tbody>\n",
       "</table>\n",
       "</div>"
      ],
      "text/plain": [
       "   gender seniorcitizen partner dependents  tenure phoneservice multiplelines  \\\n",
       "0  Female            No     Yes         No       1           No            No   \n",
       "1    Male            No      No         No      34          Yes            No   \n",
       "2    Male            No      No         No       2          Yes            No   \n",
       "3    Male            No      No         No      45           No            No   \n",
       "4  Female            No      No         No       2          Yes            No   \n",
       "\n",
       "  internetservice onlinesecurity onlinebackup deviceprotection techsupport  \\\n",
       "0             DSL             No          Yes               No          No   \n",
       "1             DSL            Yes           No              Yes          No   \n",
       "2             DSL            Yes          Yes               No          No   \n",
       "3             DSL            Yes           No              Yes         Yes   \n",
       "4     Fiber optic             No           No               No          No   \n",
       "\n",
       "  streamingtv streamingmovies        contract paperlessbilling  \\\n",
       "0          No              No  Month-to-month              Yes   \n",
       "1          No              No        One year               No   \n",
       "2          No              No  Month-to-month              Yes   \n",
       "3          No              No        One year               No   \n",
       "4          No              No  Month-to-month              Yes   \n",
       "\n",
       "               paymentmethod  monthlycharges  totalcharges  churn  \n",
       "0           Electronic check           29.85         29.85      0  \n",
       "1               Mailed check           56.95       1889.50      0  \n",
       "2               Mailed check           53.85        108.15      1  \n",
       "3  Bank transfer (automatic)           42.30       1840.75      0  \n",
       "4           Electronic check           70.70        151.65      1  "
      ]
     },
     "execution_count": 23,
     "metadata": {},
     "output_type": "execute_result"
    }
   ],
   "source": [
    "df.to_csv('Cleaned_Telco_Customer_Churn.csv', index=False)\n",
    "df.head()"
   ]
  },
  {
   "cell_type": "markdown",
   "id": "887774de-b283-44df-8924-c6c1a6b5e050",
   "metadata": {},
   "source": [
    "## Exploratory Data Analysis: Medians, Outliers, and Visualizations"
   ]
  },
  {
   "cell_type": "code",
   "execution_count": 24,
   "id": "f8d26b5a-f847-48c9-b363-09acaead349b",
   "metadata": {},
   "outputs": [
    {
     "name": "stdout",
     "output_type": "stream",
     "text": [
      "Medians for Numerical Features:\n",
      "tenure: 29.00\n",
      "monthlycharges: 70.40\n",
      "totalcharges: 1403.88\n"
     ]
    }
   ],
   "source": [
    "# Calculate medians for numerical features\n",
    "\n",
    "numerical_cols = ['tenure', 'monthlycharges', 'totalcharges']\n",
    "print('Medians for Numerical Features:')\n",
    "for col in numerical_cols:\n",
    "    median = df[col].median()\n",
    "    print(f'{col}: {median:.2f}')"
   ]
  },
  {
   "cell_type": "code",
   "execution_count": 25,
   "id": "ecaf8007-f14f-4bf6-a6e4-375c341be0f4",
   "metadata": {},
   "outputs": [
    {
     "name": "stdout",
     "output_type": "stream",
     "text": [
      "Outlier Counts:\n",
      "tenure: 0 outliers\n",
      "monthlycharges: 0 outliers\n",
      "totalcharges: 0 outliers\n"
     ]
    }
   ],
   "source": [
    "# Detect outliers using IQR method\n",
    "\n",
    "def detect_outliers(df, column):\n",
    "    Q1 = df[column].quantile(0.25)\n",
    "    Q3 = df[column].quantile(0.75)\n",
    "    IQR = Q3 - Q1\n",
    "    lower_bound = Q1 - 1.5 * IQR\n",
    "    upper_bound = Q3 + 1.5 * IQR\n",
    "    outliers = df[(df[column] < lower_bound) | (df[column] > upper_bound)][column]\n",
    "    return outliers\n",
    "\n",
    "print('Outlier Counts:')\n",
    "for col in numerical_cols:\n",
    "    outliers = detect_outliers(df, col)\n",
    "    print(f'{col}: {len(outliers)} outliers')\n",
    "    if len(outliers) > 0:\n",
    "        print(f'Example outlier values for {col}:\\n{outliers.head().to_string()}\\n')"
   ]
  },
  {
   "cell_type": "code",
   "execution_count": 26,
   "id": "51bf0378-69b6-4ceb-98f2-614350debd2d",
   "metadata": {},
   "outputs": [
    {
     "data": {
      "image/png": "[encoded data removed]",
      "text/plain": [
       "<Figure size 1500x1000 with 6 Axes>"
      ]
     },
     "metadata": {},
     "output_type": "display_data"
    },
    {
     "name": "stdout",
     "output_type": "stream",
     "text": [
      "Categorical plots saved as categorical_eda.png\n"
     ]
    }
   ],
   "source": [
    "# Categorical feature analysis\n",
    "\n",
    "categorical_cols = df.select_dtypes(include='object').columns\n",
    "plt.figure(figsize=(15, 10))\n",
    "for i, col in enumerate(categorical_cols[:6], 1):  # Limit to 6 for brevity\n",
    "    plt.subplot(3, 2, i)\n",
    "    sns.countplot(x=col, hue='churn', data=df)\n",
    "    plt.title(f'{col} vs Churn')\n",
    "    plt.xticks(rotation=45)\n",
    "plt.tight_layout()\n",
    "plt.savefig('categorical_eda.png')\n",
    "plt.show()\n",
    "print('Categorical plots saved as categorical_eda.png')"
   ]
  },
  {
   "cell_type": "code",
   "execution_count": null,
   "id": "39fe9123-314d-46d5-82d8-ada3a4eb178f",
   "metadata": {},
   "outputs": [],
   "source": [
    "# Correlation analysis\n",
    "\n",
    "plt.figure(figsize=(8, 6))\n",
    "sns.heatmap(df[numerical_cols + ['churn']].corr(), annot=True, cmap='coolwarm')\n",
    "plt.title('Correlation Heatmap')\n",
    "plt.savefig('correlation_heatmap.png')\n",
    "plt.show()\n",
    "print('Correlation heatmap saved as correlation_heatmap.png')"
   ]
  },
  {
   "cell_type": "code",
   "execution_count": null,
   "id": "755112f2-61e9-4325-ad05-ca05cd773fb1",
   "metadata": {},
   "outputs": [],
   "source": [
    "print('### EDA Insights ###')\n",
    "print('- Customers with higher monthly charges and shorter tenure are more likely to churn.')\n",
    "print('- Month-to-month contracts have higher churn rates than one- or two-year contracts.')\n",
    "print('- Longer tenure is associated with lower churn, indicating loyalty.')\n",
    "print('- Outliers in totalcharges may indicate high-value customers; further investigation needed.')"
   ]
  },
  {
   "cell_type": "markdown",
   "id": "2f4abba2-2ead-466a-be02-47b61270c91d",
   "metadata": {},
   "source": [
    "## Explore Feature Distributions and Correlations"
   ]
  },
  {
   "cell_type": "code",
   "execution_count": null,
   "id": "f867a83c-30b1-46d5-9d53-9457d6b5ac4e",
   "metadata": {},
   "outputs": [],
   "source": [
    "# Histogram for numeric columns\n",
    "\n",
    "df.hist(figsize=(15, 10), bins=30)\n",
    "plt.suptitle('Feature Distributions')\n",
    "plt.tight_layout()\n",
    "plt.show()"
   ]
  },
  {
   "cell_type": "code",
   "execution_count": null,
   "id": "72f46757-6e8c-4bf3-80a4-dd644dc2bb7e",
   "metadata": {},
   "outputs": [],
   "source": [
    "# KDE plots\n",
    "\n",
    "for col in df.select_dtypes(include='number').columns:\n",
    "    sns.kdeplot(df[col], shade=True)\n",
    "    plt.title(f'Distribution of {col}')\n",
    "    plt.show()"
   ]
  },
  {
   "cell_type": "code",
   "execution_count": null,
   "id": "d1edf4f8-c041-428a-9ad0-df01056b7110",
   "metadata": {},
   "outputs": [],
   "source": [
    "df_encoded = df.copy()\n",
    "\n",
    "# Encode all object columns to numeric (Label Encoding)\n",
    "for col in df_encoded.select_dtypes(include='object').columns:\n",
    "    df_encoded[col] = df_encoded[col].astype('category').cat.codes\n",
    "\n",
    "# Now compute correlation with churn\n",
    "churn_corr = df_encoded.corr()['churn'].sort_values(ascending=False)\n",
    "print(churn_corr)"
   ]
  },
  {
   "cell_type": "markdown",
   "id": "6db21533-53ff-4993-92a4-545ece51fd5b",
   "metadata": {},
   "source": [
    "## Visualize Relationship between Features and Churn"
   ]
  },
  {
   "cell_type": "code",
   "execution_count": null,
   "id": "64acbe3c-8abe-41b3-87cb-051109e8a87e",
   "metadata": {},
   "outputs": [],
   "source": [
    "# Categorical features\n",
    "for col in df.select_dtypes(include='object').columns:\n",
    "    plt.figure(figsize=(8, 4))\n",
    "    sns.countplot(x=col, hue='churn', data=df)\n",
    "    plt.title(f'{col} vs churn')\n",
    "    plt.xticks(rotation=45)\n",
    "    plt.show()"
   ]
  },
  {
   "cell_type": "code",
   "execution_count": null,
   "id": "c9be7c1f-303f-4640-bfd6-50feb8fa6928",
   "metadata": {},
   "outputs": [],
   "source": [
    "print(df.columns.tolist())"
   ]
  },
  {
   "cell_type": "code",
   "execution_count": null,
   "id": "a81b3ac9-06e2-4d74-af28-33a8cb1b6cbc",
   "metadata": {},
   "outputs": [],
   "source": [
    "# Numerical Features\n",
    "\n",
    "for col in df.select_dtypes(include='number').drop(columns='churn').columns:\n",
    "    plt.figure(figsize=(8, 4))\n",
    "    sns.boxplot(x='churn', y=col, data=df)\n",
    "    plt.title(f'{col} by churn')\n",
    "    plt.show()"
   ]
  },
  {
   "cell_type": "code",
   "execution_count": null,
   "id": "c24f87f1-22f5-4bde-98b0-5ab4e0d4fbef",
   "metadata": {},
   "outputs": [],
   "source": [
    "# Display Pairplot\n",
    "\n",
    "sns.pairplot(df, hue='churn', vars=['tenure', 'monthlycharges'])\n",
    "plt.show()"
   ]
  },
  {
   "cell_type": "markdown",
   "id": "f77fed8d-392c-48e6-aa63-5125cd85f0f8",
   "metadata": {},
   "source": [
    "## Model Building and Evaluation"
   ]
  },
  {
   "cell_type": "code",
   "execution_count": null,
   "id": "303f3988-442e-4388-8143-46a777fb5a48",
   "metadata": {},
   "outputs": [],
   "source": [
    "# Define categorical and numerical columns\n",
    "\n",
    "categorical_cols = df.select_dtypes(include='object').columns\n",
    "numerical_cols = ['tenure', 'monthlycharges', 'totalcharges']\n"
   ]
  },
  {
   "cell_type": "code",
   "execution_count": null,
   "id": "63132167-73fa-4ce0-8ca7-c91515890d20",
   "metadata": {},
   "outputs": [],
   "source": [
    "# Create preprocessing pipeline\n",
    "\n",
    "preprocessor = ColumnTransformer(\n",
    "    transformers=[\n",
    "        ('categorical', OneHotEncoder(drop='first', sparse_output=False), categorical_cols),\n",
    "        ('numerical', StandardScaler(), numerical_cols)\n",
    "    ])"
   ]
  },
  {
   "cell_type": "code",
   "execution_count": null,
   "id": "fa7eaf12-e7cb-4635-a7c6-a4155fc23078",
   "metadata": {},
   "outputs": [],
   "source": [
    "# Define features and target\n",
    "\n",
    "X = df.drop('churn', axis=1)\n",
    "y = df['churn']"
   ]
  },
  {
   "cell_type": "code",
   "execution_count": null,
   "id": "b072a2b0-6309-40da-ba24-422b99e6b931",
   "metadata": {},
   "outputs": [],
   "source": [
    "# Split data into training and testing sets\n",
    "\n",
    "X_train, X_test, y_train, y_test = train_test_split(X, y, test_size=0.2, random_state=42)"
   ]
  },
  {
   "cell_type": "code",
   "execution_count": null,
   "id": "50cb896e-0978-41f1-a9aa-7d693b004d44",
   "metadata": {},
   "outputs": [],
   "source": [
    "# Fit and transform training data, transform test data\n",
    "\n",
    "X_train_transformed = preprocessor.fit_transform(X_train)\n",
    "X_test_transformed = preprocessor.transform(X_test)"
   ]
  },
  {
   "cell_type": "code",
   "execution_count": null,
   "id": "178b8fd2-3bc1-4d03-a419-d77b32169c59",
   "metadata": {},
   "outputs": [],
   "source": [
    "# Get feature names after one-hot encoding\n",
    "\n",
    "cat_feature_names = preprocessor.named_transformers_['categorical'].get_feature_names_out(categorical_cols)\n",
    "feature_names = list(cat_feature_names) + numerical_cols"
   ]
  },
  {
   "cell_type": "code",
   "execution_count": null,
   "id": "8109301e-6e86-49be-b27f-0238e05f67a0",
   "metadata": {},
   "outputs": [],
   "source": [
    "# Convert to DataFrames\n",
    "\n",
    "X_train = pd.DataFrame(X_train_transformed, columns=feature_names)\n",
    "X_test = pd.DataFrame(X_test_transformed, columns=feature_names)"
   ]
  },
  {
   "cell_type": "code",
   "execution_count": null,
   "id": "97880bd1-abbd-42f3-81f5-22afece3f026",
   "metadata": {},
   "outputs": [],
   "source": [
    "# Train Random Forest Classifier\n",
    "\n",
    "rf_model = RandomForestClassifier(random_state=42, n_estimators=100, class_weight='balanced')\n",
    "rf_model.fit(X_train, y_train)"
   ]
  },
  {
   "cell_type": "code",
   "execution_count": null,
   "id": "85aa5698-a68f-4aa4-9673-b9c121c311c7",
   "metadata": {},
   "outputs": [],
   "source": [
    "# Make predictions\n",
    "\n",
    "rf_y_pred = rf_model.predict(X_test)\n",
    "rf_y_prob = rf_model.predict_proba(X_test)[:, 1]"
   ]
  },
  {
   "cell_type": "code",
   "execution_count": null,
   "id": "c0ce6693-cb30-406d-ab1a-18d743ad82ad",
   "metadata": {},
   "outputs": [],
   "source": [
    "# Evaluate Random Forest\n",
    "\n",
    "rf_metrics = {\n",
    "    'Accuracy': accuracy_score(y_test, rf_y_pred),\n",
    "    'Precision': precision_score(y_test, rf_y_pred),\n",
    "    'Recall': recall_score(y_test, rf_y_pred),\n",
    "    'F1-Score': f1_score(y_test, rf_y_pred),\n",
    "    'ROC-AUC': roc_auc_score(y_test, rf_y_prob)\n",
    "}\n",
    "\n",
    "print('Random Forest Performance Metrics:')\n",
    "for metric, value in rf_metrics.items():\n",
    "    print(f'{metric}: {value:.4f}')"
   ]
  },
  {
   "cell_type": "code",
   "execution_count": null,
   "id": "85b1827b-7ce8-47d3-b32f-e2b5925cf771",
   "metadata": {},
   "outputs": [],
   "source": [
    "# XGBoost Classifier\n",
    "\n",
    "xgb_model = xgb.XGBClassifier(random_state=42, n_estimators=100, scale_pos_weight=len(y_train[y_train == 0]) / len(y_train[y_train == 1]))\n",
    "xgb_model.fit(X_train, y_train)\n",
    "xgb_y_pred = xgb_model.predict(X_test)\n",
    "xgb_y_prob = xgb_model.predict_proba(X_test)[:, 1]"
   ]
  },
  {
   "cell_type": "code",
   "execution_count": null,
   "id": "1bc040a4-4215-4153-9f57-4dcb0afbd7fe",
   "metadata": {},
   "outputs": [],
   "source": [
    "# Evaluate XGBoost\n",
    "\n",
    "xgb_metrics = {\n",
    "    'Accuracy': accuracy_score(y_test, xgb_y_pred),\n",
    "    'Precision': precision_score(y_test, xgb_y_pred),\n",
    "    'Recall': recall_score(y_test, xgb_y_pred),\n",
    "    'F1-Score': f1_score(y_test, xgb_y_pred),\n",
    "    'ROC-AUC': roc_auc_score(y_test, xgb_y_prob)\n",
    "}\n",
    "\n",
    "print('\\nXGBoost Performance Metrics:')\n",
    "for metric, value in xgb_metrics.items():\n",
    "    print(f'{metric}: {value:.4f}')"
   ]
  },
  {
   "cell_type": "code",
   "execution_count": null,
   "id": "d9931071-5a6b-4ed8-9c90-13e1a388f8bd",
   "metadata": {},
   "outputs": [],
   "source": [
    "# Save metrics\n",
    "\n",
    "with open('model_metrics.txt', 'w') as f:\n",
    "    f.write('Random Forest Metrics:\\n')\n",
    "    for metric, value in rf_metrics.items():\n",
    "        f.write(f'{metric}: {value:.4f}\\n')\n",
    "    f.write('\\nXGBoost Metrics:\\n')\n",
    "    for metric, value in xgb_metrics.items():\n",
    "        f.write(f'{metric}: {value:.4f}\\n')"
   ]
  },
  {
   "cell_type": "code",
   "execution_count": null,
   "id": "e2f722f0-73ac-48cd-87b1-66c26b8a4ee6",
   "metadata": {},
   "outputs": [],
   "source": [
    "# Plot feature importance for Random Forest\n",
    "\n",
    "rf_feature_importance = pd.Series(rf_model.feature_importances_, index=feature_names).sort_values(ascending=False).head(10)\n",
    "plt.figure(figsize=(10, 6))\n",
    "sns.barplot(x=rf_feature_importance, y=rf_feature_importance.index)\n",
    "plt.title('Random Forest Top 10 Feature Importance')\n",
    "plt.xlabel('Importance')\n",
    "plt.ylabel('Feature')\n",
    "plt.tight_layout()\n",
    "plt.savefig('rf_feature_importance.png')\n",
    "plt.show()\n",
    "print('Random Forest feature importance plot saved as rf_feature_importance.png')"
   ]
  },
  {
   "cell_type": "code",
   "execution_count": null,
   "id": "683227fb-4b35-48c6-8d32-d336fc3178b5",
   "metadata": {},
   "outputs": [],
   "source": [
    "# Plot feature importance for XGBoost\n",
    "xgb_feature_importance = pd.Series(xgb_model.feature_importances_, index=feature_names).sort_values(ascending=False).head(10)\n",
    "plt.figure(figsize=(10, 6))\n",
    "sns.barplot(x=xgb_feature_importance, y=xgb_feature_importance.index)\n",
    "plt.title('XGBoost Top 10 Feature Importance')\n",
    "plt.xlabel('Importance')\n",
    "plt.ylabel('Feature')\n",
    "plt.tight_layout()\n",
    "plt.savefig('xgb_feature_importance.png')\n",
    "plt.show()\n",
    "print('XGBoost feature importance plot saved as xgb_feature_importance.png')"
   ]
  },
  {
   "cell_type": "markdown",
   "id": "82627ad3-df41-4dbf-a13f-ef76c4f08b11",
   "metadata": {},
   "source": [
    "## Model Interpretation"
   ]
  },
  {
   "cell_type": "code",
   "execution_count": null,
   "id": "31329132-c5a4-4491-b5e2-5c8818e9e741",
   "metadata": {},
   "outputs": [],
   "source": [
    "print('### Model Interpretation ###')\n",
    "print('Random Forest Performance:')\n",
    "for metric, value in rf_metrics.items():\n",
    "    print(f'- {metric}: {value:.4f}')\n",
    "print('\\nXGBoost Performance:')\n",
    "for metric, value in xgb_metrics.items():\n",
    "    print(f'- {metric}: {value:.4f}')\n",
    "print('\\nKey Insights:')\n",
    "print('- XGBoost generally outperforms Random Forest in recall and ROC-AUC, improving churn detection.')\n",
    "print('- Both models identify tenure, monthly charges, and contract type as key drivers.')\n",
    "print('- Class balancing improves recall, capturing more churners.')\n",
    "print('- Retention strategies should focus on short-tenure customers and those with month-to-month contracts.')"
   ]
  },
  {
   "cell_type": "markdown",
   "id": "df10eeb9-6449-4de2-a01f-2f5c47fada6c",
   "metadata": {},
   "source": [
    "## Presentation of Findings"
   ]
  },
  {
   "cell_type": "code",
   "execution_count": null,
   "id": "537ad9ea-961e-4532-9529-db5a2ced37a9",
   "metadata": {},
   "outputs": [],
   "source": [
    "# Generate text-based report\n",
    "print('### Telco Customer Churn Prediction Report ###')\n",
    "print('\\n#### Problem Statement ####')\n",
    "print('- Predict customer churn to enable proactive retention strategies using demographic, service, and account data.')\n",
    "\n",
    "print('\\n#### EDA Insights ####')\n",
    "print('- Medians: Tenure=29 months, MonthlyCharges=$70.35, TotalCharges=$1394.55.')\n",
    "print('- Outliers in totalcharges may indicate high-value customers.')\n",
    "print('- Month-to-month contracts have higher churn rates than long-term contracts.')\n",
    "print('- Higher monthly charges are associated with increased churn risk.')\n",
    "print('- Longer tenure reduces churn, indicating loyalty.')\n",
    "print('- Visualizations: Box plots, categorical EDA, and correlation heatmap are saved as PNGs.')\n",
    "\n",
    "print('\\n#### Model Performance ####')\n",
    "print('##### Random Forest #####')\n",
    "for metric, value in rf_metrics.items():\n",
    "    print(f'- {metric}: {value:.4f}')\n",
    "print('\\n##### XGBoost #####')\n",
    "for metric, value in xgb_metrics.items():\n",
    "    print(f'- {metric}: {value:.4f}')\n",
    "\n",
    "print('\\n#### Key Features ####')\n",
    "print('- Tenure, monthly charges, and contract type are the primary drivers of churn.')\n",
    "print('- Feature importance plots for Random Forest and XGBoost are saved as PNGs.')\n",
    "\n",
    "print('\\n#### Recommendations ####')\n",
    "print('- Offer incentives to new customers to increase tenure.')\n",
    "print('- Provide discounts to month-to-month contract holders.')\n",
    "print('- Target high-monthly-charge customers with retention offers.')"
   ]
  },
  {
   "cell_type": "code",
   "execution_count": null,
   "id": "1a49ad4e-1b4c-4973-841a-991d145689c3",
   "metadata": {},
   "outputs": [],
   "source": []
  }
 ],
 "metadata": {
  "kernelspec": {
   "display_name": "anaconda-panel-2023.05-py310",
   "language": "python",
   "name": "conda-env-anaconda-panel-2023.05-py310-py"
  },
  "language_info": {
   "codemirror_mode": {
    "name": "ipython",
    "version": 3
   },
   "file_extension": ".py",
   "mimetype": "text/x-python",
   "name": "python",
   "nbconvert_exporter": "python",
   "pygments_lexer": "ipython3",
   "version": "3.11.5"
  }
 },
 "nbformat": 4,
 "nbformat_minor": 5
}
